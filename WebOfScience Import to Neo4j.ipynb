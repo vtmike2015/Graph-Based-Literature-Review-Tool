{
 "cells": [
  {
   "cell_type": "markdown",
   "id": "5d87ea97-9c28-4f10-9403-4cfb2925d7f3",
   "metadata": {},
   "source": [
    "# Web of Science Import to Neo4j Notes\n",
    "\n",
    "Web of Science / Clarivate (https://www.webofscience.com/) requires a manual download of search results.\n",
    "A Web of Science account is required to search for literature metadata and download these search results.\n",
    "\n",
    "Web of Science provides a number of options to search for articles of interest\n",
    "'Topic' search is recommended to provide comprehensive results.\n",
    "\n",
    "Once the search results are returned, they will need to be exported by clicking on the \"Export\" tab\n",
    "then selecting 'Tab delimited file'.\n",
    "\n",
    "At a minimum select 'Author', 'Title', 'Source' and 'Abstract' attributes. \n",
    "This Jupyter Notebook will import all attributes if they are selected. \n",
    "\n",
    "Only 1000 results can be downloaded at a time. If more than 1000 results are returned, multiple downloads\n",
    "will be required.\n",
    "\n",
    "Once the spreadsheet files are downloaded, they will need to be placed into your Neo4j Import directory\n",
    "The scripting will automatically import these spreadsheets.\n",
    "\n"
   ]
  },
  {
   "cell_type": "code",
   "execution_count": null,
   "id": "279c3931-21be-490b-b9be-ebf22b3cc0c5",
   "metadata": {},
   "outputs": [],
   "source": [
    "# Download and install Python packages needed for this Jupyter Notebook\n",
    "\n",
    "!pip install neo4j"
   ]
  },
  {
   "cell_type": "code",
   "execution_count": null,
   "id": "26815318-16f6-491c-bb2a-6b08fcf8d471",
   "metadata": {},
   "outputs": [],
   "source": [
    "# This imports the Python packages needed for this Jupyter Notebook \n",
    "\n",
    "# Note: 'ast' 'json' and 'os' are part of the Python Standard Library\n",
    "# If not already included in your Python installer, \n",
    "# they will need to be installed manually \n",
    "\n",
    "import json \n",
    "from neo4j import GraphDatabase\n",
    "import os\n",
    "import ast"
   ]
  },
  {
   "cell_type": "code",
   "execution_count": null,
   "id": "4ba88353-605e-4d59-8e9b-cd6621cfc31b",
   "metadata": {},
   "outputs": [],
   "source": [
    "# The block connect the Jupyter Notebook to your Neo4j Database\n",
    "# Note: Your Neo4j Database must be running and accepting connections\n",
    "# Note: This example is for connecting to a local instance of Neo4j\n",
    "# More information on interfacing with can be found at\n",
    "# https://neo4j.com/docs/python-manual/current/connect/\n",
    "\n",
    "uri = 'bolt://localhost:7687'\n",
    "username = 'neo4j'\n",
    "password = 'password'\n",
    "driver = GraphDatabase.driver(uri, auth=(username, password))"
   ]
  },
  {
   "cell_type": "code",
   "execution_count": null,
   "id": "5730cce3-f22d-42fb-8920-e57245e4f5ab",
   "metadata": {},
   "outputs": [],
   "source": [
    "# This block creates indexes on the following properties to greatly speed data import and data queries\n",
    "# Scripting that is commented out indicate an Node type not present in the data set imported  \n",
    "    \n",
    "#driver.execute_query('CREATE INDEX Institutions IF NOT EXISTS FOR \\\n",
    "#    (i:Institutions) ON (i.id)')\n",
    "#driver.execute_query('CREATE INDEX Concept IF NOT EXISTS FOR \\\n",
    "#    (i:Concept) ON (i.id)')\n",
    "record, summary, keys =  driver.execute_query('CREATE INDEX Work_ID IF NOT EXISTS FOR \\\n",
    "        (i:Work) ON (i.id)')\n",
    "record, summary, keys =  driver.execute_query('CREATE INDEX Author IF NOT EXISTS FOR \\\n",
    "        (i:Author) ON (i.id)')"
   ]
  },
  {
   "cell_type": "code",
   "execution_count": null,
   "id": "98255359-c6ca-4e58-acea-9ad216784aa5",
   "metadata": {},
   "outputs": [],
   "source": [
    "# This block imports each spreadsheet downloaded from Web of Science and creates\n",
    "# Work nodes with the Web of Science data fields added as properties  \n",
    "\n",
    "# Returns path for neo4j Import directory \n",
    "with driver.session() as session:\n",
    "    \n",
    "    # Returns path for neo4j instance running\n",
    "    neodir = session.run('CALL dbms.listConfig() YIELD name, value \\\n",
    "        WHERE name = \\'server.directories.import\\' RETURN value').values()\n",
    "    path = neodir[0][0] \n",
    "    #print(path)\n",
    "    \n",
    "    os.chdir(path)\n",
    "directory_list = sorted(os.listdir(path))\n",
    "\n",
    "# Imports downloaded spreadsheet and creates Work nodes\n",
    "for file in directory_list:\n",
    "    if not file.startswith('.'): \n",
    "       work_node_creation  = \"LOAD CSV WITH HEADERS FROM 'file:///\" + file + \\\n",
    "            \"' AS line WITH line WHERE line.`Authors` IS NOT NULL \\\n",
    "            MERGE (w:Work {id: line.`UT (Unique ID)`}) \\\n",
    "            SET w.source = \\'WebOfScience\\', \\\n",
    "            w.display_name = coalesce(line.`Article Title`, \\'\\'), \\\n",
    "            w.cited_by_count = \\\n",
    "            coalesce(line.`Times Cited, All Databases`, \\'\\'), \\\n",
    "            w.doi = coalesce(line.`DOI`, \\'\\'), \\\n",
    "            w.publication_date = coalesce(line.`Publication Date`, \\'\\'), \\\n",
    "            w.publication_year = coalesce(line.`Publication Year`, \\'\\'), \\\n",
    "            w.type = coalesce(line.`Document Type`, \\'\\'), \\\n",
    "            w.abstract = coalesce(line.`Abstract`, \\'\\'), \\\n",
    "            w.authorships = coalesce(split(line.`Authors`, \\';\\'), \\'\\'), \\\n",
    "            w.ISBN = coalesce(line.`ISBN`, \\'\\'), \\\n",
    "            w.ISSN = coalesce(line.`ISSN`, \\'\\'), \\\n",
    "            w.SourceTitle = coalesce(line.`Source Title`, \\'\\'), \\\n",
    "            w.ConferenceTitle = coalesce(line.`Conference Title`, \\'\\')\" \n",
    "    # Uncomment statement below to print cypher syntax for command being executed\n",
    "    #print(work_node_creation)\n",
    "    \n",
    "    print(\"Processing file: \" + str(file))\n",
    "    record, summary, keys = driver.execute_query(work_node_creation)\n",
    "    # This print statement provides information on \n",
    "    # labels_added, relationships_created, nodes_created and properties_set\n",
    "    print(summary.counters)\n"
   ]
  },
  {
   "cell_type": "code",
   "execution_count": null,
   "id": "8c9b158d-4676-420e-b0b9-37217db1fa73",
   "metadata": {},
   "outputs": [],
   "source": [
    "# This block retrieves the authorships property imported earlier and \n",
    "# creates an Author Node for each unique author. \n",
    "# Author names are assigned to display_name and a unique identifier\n",
    "# (UUID) is created\n",
    "\n",
    "author_node_creation = \"CALL apoc.periodic.iterate(\\\"MATCH (w:Work) RETURN w\\\",\\\"WITH \\\n",
    "    w.authorships AS authors,w \\\n",
    "    UNWIND authors AS author \\\n",
    "    MERGE (a:Author {display_name: trim(author)}) \\\n",
    "    SET a.source = 'Web of Science', \\\n",
    "    a.id = randomUUID() \\\n",
    "    MERGE (a)-[:WROTE]->(w)\\\",\\\n",
    "    {batchSize:200, parallel:false})\"\n",
    "\n",
    "\n",
    "# Print line provides the cypher syntax executed within neo4j\n",
    "#print(author_node_creation)\n",
    "\n",
    "record, summary, keys = driver.execute_query(author_node_creation)\n",
    "\n",
    "# This print statement provides information on the transaction batches\n",
    "print(record[0][8])\n",
    "\n",
    "print(\"Author import complete\")"
   ]
  }
 ],
 "metadata": {
  "kernelspec": {
   "display_name": "Python 3 (ipykernel)",
   "language": "python",
   "name": "python3"
  },
  "language_info": {
   "codemirror_mode": {
    "name": "ipython",
    "version": 3
   },
   "file_extension": ".py",
   "mimetype": "text/x-python",
   "name": "python",
   "nbconvert_exporter": "python",
   "pygments_lexer": "ipython3",
   "version": "3.11.4"
  }
 },
 "nbformat": 4,
 "nbformat_minor": 5
}
